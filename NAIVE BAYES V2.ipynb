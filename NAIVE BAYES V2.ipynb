{
 "cells": [
  {
   "cell_type": "markdown",
   "id": "3d5dacf9",
   "metadata": {},
   "source": [
    "# Fachreza Riyanda (202131116) - Naive Bayes"
   ]
  },
  {
   "cell_type": "markdown",
   "id": "3f91e0f9",
   "metadata": {},
   "source": [
    "## Import Library"
   ]
  },
  {
   "cell_type": "code",
   "execution_count": 34,
   "id": "590d4041",
   "metadata": {},
   "outputs": [],
   "source": [
    "import pandas as pd\n",
    "import numpy as np\n",
    "from sklearn.model_selection import train_test_split\n",
    "from sklearn.naive_bayes import MultinomialNB\n",
    "from sklearn.preprocessing import LabelEncoder\n",
    "from sklearn.metrics import accuracy_score, classification_report\n"
   ]
  },
  {
   "cell_type": "markdown",
   "id": "cb91997d",
   "metadata": {},
   "source": [
    "## Membaca dan Menampilkan Data"
   ]
  },
  {
   "cell_type": "code",
   "execution_count": 38,
   "id": "0a0fdc76",
   "metadata": {},
   "outputs": [
    {
     "data": {
      "text/html": [
       "<div>\n",
       "<style scoped>\n",
       "    .dataframe tbody tr th:only-of-type {\n",
       "        vertical-align: middle;\n",
       "    }\n",
       "\n",
       "    .dataframe tbody tr th {\n",
       "        vertical-align: top;\n",
       "    }\n",
       "\n",
       "    .dataframe thead th {\n",
       "        text-align: right;\n",
       "    }\n",
       "</style>\n",
       "<table border=\"1\" class=\"dataframe\">\n",
       "  <thead>\n",
       "    <tr style=\"text-align: right;\">\n",
       "      <th></th>\n",
       "      <th>No Data</th>\n",
       "      <th>Jenis Barang</th>\n",
       "      <th>Merk</th>\n",
       "      <th>Harga</th>\n",
       "      <th>Kelas</th>\n",
       "    </tr>\n",
       "  </thead>\n",
       "  <tbody>\n",
       "    <tr>\n",
       "      <th>0</th>\n",
       "      <td>1</td>\n",
       "      <td>Kramik</td>\n",
       "      <td>Vicenza</td>\n",
       "      <td>385500</td>\n",
       "      <td>Laris</td>\n",
       "    </tr>\n",
       "    <tr>\n",
       "      <th>1</th>\n",
       "      <td>2</td>\n",
       "      <td>Kramik</td>\n",
       "      <td>Vicenza</td>\n",
       "      <td>538500</td>\n",
       "      <td>Laris</td>\n",
       "    </tr>\n",
       "    <tr>\n",
       "      <th>2</th>\n",
       "      <td>3</td>\n",
       "      <td>Kramik</td>\n",
       "      <td>Vicenza</td>\n",
       "      <td>538500</td>\n",
       "      <td>Laris</td>\n",
       "    </tr>\n",
       "    <tr>\n",
       "      <th>3</th>\n",
       "      <td>4</td>\n",
       "      <td>Plastik</td>\n",
       "      <td>Sunlife</td>\n",
       "      <td>18300</td>\n",
       "      <td>Laris</td>\n",
       "    </tr>\n",
       "    <tr>\n",
       "      <th>4</th>\n",
       "      <td>5</td>\n",
       "      <td>Plastik</td>\n",
       "      <td>Sunlife</td>\n",
       "      <td>12500</td>\n",
       "      <td>Laris</td>\n",
       "    </tr>\n",
       "    <tr>\n",
       "      <th>5</th>\n",
       "      <td>6</td>\n",
       "      <td>Plastik</td>\n",
       "      <td>Fori</td>\n",
       "      <td>27500</td>\n",
       "      <td>Laris</td>\n",
       "    </tr>\n",
       "    <tr>\n",
       "      <th>6</th>\n",
       "      <td>7</td>\n",
       "      <td>Kaca</td>\n",
       "      <td>Vicenza</td>\n",
       "      <td>520000</td>\n",
       "      <td>Laris</td>\n",
       "    </tr>\n",
       "    <tr>\n",
       "      <th>7</th>\n",
       "      <td>8</td>\n",
       "      <td>Kaca</td>\n",
       "      <td>Sunlife</td>\n",
       "      <td>179000</td>\n",
       "      <td>Tidak Laris</td>\n",
       "    </tr>\n",
       "    <tr>\n",
       "      <th>8</th>\n",
       "      <td>9</td>\n",
       "      <td>Kramik</td>\n",
       "      <td>Sunlife</td>\n",
       "      <td>178000</td>\n",
       "      <td>Laris</td>\n",
       "    </tr>\n",
       "    <tr>\n",
       "      <th>9</th>\n",
       "      <td>10</td>\n",
       "      <td>Kramik</td>\n",
       "      <td>Vicenza</td>\n",
       "      <td>44500</td>\n",
       "      <td>Laris</td>\n",
       "    </tr>\n",
       "    <tr>\n",
       "      <th>10</th>\n",
       "      <td>11</td>\n",
       "      <td>Kaca</td>\n",
       "      <td>Vicenza</td>\n",
       "      <td>600000</td>\n",
       "      <td>Laris</td>\n",
       "    </tr>\n",
       "    <tr>\n",
       "      <th>11</th>\n",
       "      <td>12</td>\n",
       "      <td>Kaca</td>\n",
       "      <td>Sunlife</td>\n",
       "      <td>285000</td>\n",
       "      <td>Tidak Laris</td>\n",
       "    </tr>\n",
       "    <tr>\n",
       "      <th>12</th>\n",
       "      <td>13</td>\n",
       "      <td>Kaca</td>\n",
       "      <td>Sunlife</td>\n",
       "      <td>329000</td>\n",
       "      <td>Tidak Laris</td>\n",
       "    </tr>\n",
       "    <tr>\n",
       "      <th>13</th>\n",
       "      <td>14</td>\n",
       "      <td>Kaca</td>\n",
       "      <td>Vicenza</td>\n",
       "      <td>415000</td>\n",
       "      <td>Laris</td>\n",
       "    </tr>\n",
       "    <tr>\n",
       "      <th>14</th>\n",
       "      <td>15</td>\n",
       "      <td>Kramik</td>\n",
       "      <td>Vicenza</td>\n",
       "      <td>309000</td>\n",
       "      <td>Laris</td>\n",
       "    </tr>\n",
       "    <tr>\n",
       "      <th>15</th>\n",
       "      <td>16</td>\n",
       "      <td>Kramik</td>\n",
       "      <td>Vicenza</td>\n",
       "      <td>865000</td>\n",
       "      <td>Laris</td>\n",
       "    </tr>\n",
       "    <tr>\n",
       "      <th>16</th>\n",
       "      <td>17</td>\n",
       "      <td>Kramik</td>\n",
       "      <td>Fori</td>\n",
       "      <td>999000</td>\n",
       "      <td>Laris</td>\n",
       "    </tr>\n",
       "    <tr>\n",
       "      <th>17</th>\n",
       "      <td>18</td>\n",
       "      <td>Plastik</td>\n",
       "      <td>Fori</td>\n",
       "      <td>339000</td>\n",
       "      <td>Laris</td>\n",
       "    </tr>\n",
       "    <tr>\n",
       "      <th>18</th>\n",
       "      <td>19</td>\n",
       "      <td>Plastik</td>\n",
       "      <td>Fori</td>\n",
       "      <td>289000</td>\n",
       "      <td>Laris</td>\n",
       "    </tr>\n",
       "    <tr>\n",
       "      <th>19</th>\n",
       "      <td>20</td>\n",
       "      <td>Plastik</td>\n",
       "      <td>Fori</td>\n",
       "      <td>559500</td>\n",
       "      <td>Laris</td>\n",
       "    </tr>\n",
       "  </tbody>\n",
       "</table>\n",
       "</div>"
      ],
      "text/plain": [
       "    No Data Jenis Barang     Merk   Harga        Kelas\n",
       "0         1       Kramik  Vicenza  385500        Laris\n",
       "1         2       Kramik  Vicenza  538500        Laris\n",
       "2         3       Kramik  Vicenza  538500        Laris\n",
       "3         4      Plastik  Sunlife   18300        Laris\n",
       "4         5      Plastik  Sunlife   12500        Laris\n",
       "5         6      Plastik     Fori   27500        Laris\n",
       "6         7         Kaca  Vicenza  520000        Laris\n",
       "7         8         Kaca  Sunlife  179000  Tidak Laris\n",
       "8         9       Kramik  Sunlife  178000        Laris\n",
       "9        10       Kramik  Vicenza   44500        Laris\n",
       "10       11         Kaca  Vicenza  600000        Laris\n",
       "11       12         Kaca  Sunlife  285000  Tidak Laris\n",
       "12       13         Kaca  Sunlife  329000  Tidak Laris\n",
       "13       14         Kaca  Vicenza  415000        Laris\n",
       "14       15       Kramik  Vicenza  309000        Laris\n",
       "15       16       Kramik  Vicenza  865000        Laris\n",
       "16       17       Kramik     Fori  999000        Laris\n",
       "17       18      Plastik     Fori  339000        Laris\n",
       "18       19      Plastik     Fori  289000        Laris\n",
       "19       20      Plastik     Fori  559500        Laris"
      ]
     },
     "execution_count": 38,
     "metadata": {},
     "output_type": "execute_result"
    }
   ],
   "source": [
    "data = pd.read_excel(\"data_kramik.xlsx\")\n",
    "data"
   ]
  },
  {
   "cell_type": "markdown",
   "id": "275e027f",
   "metadata": {},
   "source": [
    "## Pre-Processing Data"
   ]
  },
  {
   "cell_type": "code",
   "execution_count": 39,
   "id": "c5cb3192",
   "metadata": {},
   "outputs": [
    {
     "name": "stdout",
     "output_type": "stream",
     "text": [
      "[1 2 0] [2 1 0] [0 1]\n"
     ]
    }
   ],
   "source": [
    "from sklearn.preprocessing import LabelEncoder\n",
    "\n",
    "for col in ['Jenis Barang', 'Merk', 'Kelas']:\n",
    "    le = LabelEncoder()\n",
    "    data[col] = le.fit_transform(data[col])\n",
    "\n",
    "print(data['Jenis Barang'].unique(), data['Merk'].unique(), data['Kelas'].unique())"
   ]
  },
  {
   "cell_type": "code",
   "execution_count": 40,
   "id": "e45bf018",
   "metadata": {},
   "outputs": [],
   "source": [
    "x = np.asarray(data.drop(['No Data', 'Kelas'], axis=1))\n",
    "y = np.asarray (data['Kelas'])"
   ]
  },
  {
   "cell_type": "code",
   "execution_count": 41,
   "id": "e7d88b15",
   "metadata": {},
   "outputs": [
    {
     "data": {
      "text/html": [
       "<div>\n",
       "<style scoped>\n",
       "    .dataframe tbody tr th:only-of-type {\n",
       "        vertical-align: middle;\n",
       "    }\n",
       "\n",
       "    .dataframe tbody tr th {\n",
       "        vertical-align: top;\n",
       "    }\n",
       "\n",
       "    .dataframe thead th {\n",
       "        text-align: right;\n",
       "    }\n",
       "</style>\n",
       "<table border=\"1\" class=\"dataframe\">\n",
       "  <thead>\n",
       "    <tr style=\"text-align: right;\">\n",
       "      <th></th>\n",
       "      <th>No Data</th>\n",
       "      <th>Jenis Barang</th>\n",
       "      <th>Merk</th>\n",
       "      <th>Harga</th>\n",
       "      <th>Kelas</th>\n",
       "    </tr>\n",
       "  </thead>\n",
       "  <tbody>\n",
       "    <tr>\n",
       "      <th>0</th>\n",
       "      <td>1</td>\n",
       "      <td>1</td>\n",
       "      <td>2</td>\n",
       "      <td>385500</td>\n",
       "      <td>0</td>\n",
       "    </tr>\n",
       "    <tr>\n",
       "      <th>1</th>\n",
       "      <td>2</td>\n",
       "      <td>1</td>\n",
       "      <td>2</td>\n",
       "      <td>538500</td>\n",
       "      <td>0</td>\n",
       "    </tr>\n",
       "    <tr>\n",
       "      <th>2</th>\n",
       "      <td>3</td>\n",
       "      <td>1</td>\n",
       "      <td>2</td>\n",
       "      <td>538500</td>\n",
       "      <td>0</td>\n",
       "    </tr>\n",
       "    <tr>\n",
       "      <th>3</th>\n",
       "      <td>4</td>\n",
       "      <td>2</td>\n",
       "      <td>1</td>\n",
       "      <td>18300</td>\n",
       "      <td>0</td>\n",
       "    </tr>\n",
       "    <tr>\n",
       "      <th>4</th>\n",
       "      <td>5</td>\n",
       "      <td>2</td>\n",
       "      <td>1</td>\n",
       "      <td>12500</td>\n",
       "      <td>0</td>\n",
       "    </tr>\n",
       "    <tr>\n",
       "      <th>5</th>\n",
       "      <td>6</td>\n",
       "      <td>2</td>\n",
       "      <td>0</td>\n",
       "      <td>27500</td>\n",
       "      <td>0</td>\n",
       "    </tr>\n",
       "    <tr>\n",
       "      <th>6</th>\n",
       "      <td>7</td>\n",
       "      <td>0</td>\n",
       "      <td>2</td>\n",
       "      <td>520000</td>\n",
       "      <td>0</td>\n",
       "    </tr>\n",
       "    <tr>\n",
       "      <th>7</th>\n",
       "      <td>8</td>\n",
       "      <td>0</td>\n",
       "      <td>1</td>\n",
       "      <td>179000</td>\n",
       "      <td>1</td>\n",
       "    </tr>\n",
       "    <tr>\n",
       "      <th>8</th>\n",
       "      <td>9</td>\n",
       "      <td>1</td>\n",
       "      <td>1</td>\n",
       "      <td>178000</td>\n",
       "      <td>0</td>\n",
       "    </tr>\n",
       "    <tr>\n",
       "      <th>9</th>\n",
       "      <td>10</td>\n",
       "      <td>1</td>\n",
       "      <td>2</td>\n",
       "      <td>44500</td>\n",
       "      <td>0</td>\n",
       "    </tr>\n",
       "    <tr>\n",
       "      <th>10</th>\n",
       "      <td>11</td>\n",
       "      <td>0</td>\n",
       "      <td>2</td>\n",
       "      <td>600000</td>\n",
       "      <td>0</td>\n",
       "    </tr>\n",
       "    <tr>\n",
       "      <th>11</th>\n",
       "      <td>12</td>\n",
       "      <td>0</td>\n",
       "      <td>1</td>\n",
       "      <td>285000</td>\n",
       "      <td>1</td>\n",
       "    </tr>\n",
       "    <tr>\n",
       "      <th>12</th>\n",
       "      <td>13</td>\n",
       "      <td>0</td>\n",
       "      <td>1</td>\n",
       "      <td>329000</td>\n",
       "      <td>1</td>\n",
       "    </tr>\n",
       "    <tr>\n",
       "      <th>13</th>\n",
       "      <td>14</td>\n",
       "      <td>0</td>\n",
       "      <td>2</td>\n",
       "      <td>415000</td>\n",
       "      <td>0</td>\n",
       "    </tr>\n",
       "    <tr>\n",
       "      <th>14</th>\n",
       "      <td>15</td>\n",
       "      <td>1</td>\n",
       "      <td>2</td>\n",
       "      <td>309000</td>\n",
       "      <td>0</td>\n",
       "    </tr>\n",
       "    <tr>\n",
       "      <th>15</th>\n",
       "      <td>16</td>\n",
       "      <td>1</td>\n",
       "      <td>2</td>\n",
       "      <td>865000</td>\n",
       "      <td>0</td>\n",
       "    </tr>\n",
       "    <tr>\n",
       "      <th>16</th>\n",
       "      <td>17</td>\n",
       "      <td>1</td>\n",
       "      <td>0</td>\n",
       "      <td>999000</td>\n",
       "      <td>0</td>\n",
       "    </tr>\n",
       "    <tr>\n",
       "      <th>17</th>\n",
       "      <td>18</td>\n",
       "      <td>2</td>\n",
       "      <td>0</td>\n",
       "      <td>339000</td>\n",
       "      <td>0</td>\n",
       "    </tr>\n",
       "    <tr>\n",
       "      <th>18</th>\n",
       "      <td>19</td>\n",
       "      <td>2</td>\n",
       "      <td>0</td>\n",
       "      <td>289000</td>\n",
       "      <td>0</td>\n",
       "    </tr>\n",
       "    <tr>\n",
       "      <th>19</th>\n",
       "      <td>20</td>\n",
       "      <td>2</td>\n",
       "      <td>0</td>\n",
       "      <td>559500</td>\n",
       "      <td>0</td>\n",
       "    </tr>\n",
       "  </tbody>\n",
       "</table>\n",
       "</div>"
      ],
      "text/plain": [
       "    No Data  Jenis Barang  Merk   Harga  Kelas\n",
       "0         1             1     2  385500      0\n",
       "1         2             1     2  538500      0\n",
       "2         3             1     2  538500      0\n",
       "3         4             2     1   18300      0\n",
       "4         5             2     1   12500      0\n",
       "5         6             2     0   27500      0\n",
       "6         7             0     2  520000      0\n",
       "7         8             0     1  179000      1\n",
       "8         9             1     1  178000      0\n",
       "9        10             1     2   44500      0\n",
       "10       11             0     2  600000      0\n",
       "11       12             0     1  285000      1\n",
       "12       13             0     1  329000      1\n",
       "13       14             0     2  415000      0\n",
       "14       15             1     2  309000      0\n",
       "15       16             1     2  865000      0\n",
       "16       17             1     0  999000      0\n",
       "17       18             2     0  339000      0\n",
       "18       19             2     0  289000      0\n",
       "19       20             2     0  559500      0"
      ]
     },
     "execution_count": 41,
     "metadata": {},
     "output_type": "execute_result"
    }
   ],
   "source": [
    "data"
   ]
  },
  {
   "cell_type": "markdown",
   "id": "66a274e7",
   "metadata": {},
   "source": [
    "## Split Data"
   ]
  },
  {
   "cell_type": "code",
   "execution_count": 42,
   "id": "6b4e1f15",
   "metadata": {},
   "outputs": [],
   "source": [
    "from sklearn.model_selection import train_test_split\n",
    "x_train, x_test, y_train, y_test = train_test_split(x, y, test_size=0.2, random_state=0)"
   ]
  },
  {
   "cell_type": "markdown",
   "id": "fff97380",
   "metadata": {},
   "source": [
    "## Model Naive Bayes "
   ]
  },
  {
   "cell_type": "code",
   "execution_count": 43,
   "id": "93f3fc41",
   "metadata": {},
   "outputs": [
    {
     "data": {
      "text/plain": [
       "GaussianNB()"
      ]
     },
     "execution_count": 43,
     "metadata": {},
     "output_type": "execute_result"
    }
   ],
   "source": [
    "from sklearn.naive_bayes import GaussianNB\n",
    "from sklearn.metrics import accuracy_score\n",
    "\n",
    "model = GaussianNB()\n",
    "model.fit (x_train, y_train)"
   ]
  },
  {
   "cell_type": "code",
   "execution_count": 44,
   "id": "9ddd9f73",
   "metadata": {},
   "outputs": [
    {
     "data": {
      "text/plain": [
       "array([1, 0, 0, 0])"
      ]
     },
     "execution_count": 44,
     "metadata": {},
     "output_type": "execute_result"
    }
   ],
   "source": [
    "y_pred = model.predict(x_test)\n",
    "y_pred"
   ]
  },
  {
   "cell_type": "markdown",
   "id": "b6ae05cc",
   "metadata": {},
   "source": [
    "## Model Evaluasi "
   ]
  },
  {
   "cell_type": "code",
   "execution_count": 45,
   "id": "ce18b02c",
   "metadata": {},
   "outputs": [
    {
     "name": "stdout",
     "output_type": "stream",
     "text": [
      "Naive Bayes Accuracy:  0.75\n"
     ]
    }
   ],
   "source": [
    "from sklearn.metrics import accuracy_score\n",
    "print(\"Naive Bayes Accuracy: \", accuracy_score(y_test, y_pred))"
   ]
  },
  {
   "cell_type": "code",
   "execution_count": 48,
   "id": "e7d2a664",
   "metadata": {},
   "outputs": [],
   "source": [
    "new_data = [[0, 0, 44000]]"
   ]
  },
  {
   "cell_type": "code",
   "execution_count": 49,
   "id": "65ae21ed",
   "metadata": {},
   "outputs": [
    {
     "data": {
      "text/plain": [
       "array([0])"
      ]
     },
     "execution_count": 49,
     "metadata": {},
     "output_type": "execute_result"
    }
   ],
   "source": [
    "new_pred = model.predict(new_data)\n",
    "new_pred"
   ]
  }
 ],
 "metadata": {
  "kernelspec": {
   "display_name": "Python 3 (ipykernel)",
   "language": "python",
   "name": "python3"
  },
  "language_info": {
   "codemirror_mode": {
    "name": "ipython",
    "version": 3
   },
   "file_extension": ".py",
   "mimetype": "text/x-python",
   "name": "python",
   "nbconvert_exporter": "python",
   "pygments_lexer": "ipython3",
   "version": "3.9.13"
  }
 },
 "nbformat": 4,
 "nbformat_minor": 5
}
