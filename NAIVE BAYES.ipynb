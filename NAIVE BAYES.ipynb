{
 "cells": [
  {
   "cell_type": "markdown",
   "id": "edcb3c60",
   "metadata": {
    "execution": {
     "iopub.execute_input": "2023-09-11T18:48:17.778420Z",
     "iopub.status.busy": "2023-09-11T18:48:17.777842Z",
     "iopub.status.idle": "2023-09-11T18:48:17.782945Z",
     "shell.execute_reply": "2023-09-11T18:48:17.782104Z"
    },
    "papermill": {
     "duration": 0.016174,
     "end_time": "2023-09-11T18:48:17.784968",
     "exception": false,
     "start_time": "2023-09-11T18:48:17.768794",
     "status": "completed"
    },
    "tags": []
   },
   "source": [
    "# Fachreza Riyanda (202131116)"
   ]
  },
  {
   "cell_type": "markdown",
   "id": "92e512f7",
   "metadata": {},
   "source": [
    "## Import Library "
   ]
  },
  {
   "cell_type": "code",
   "execution_count": 12,
   "id": "63d938bd",
   "metadata": {},
   "outputs": [],
   "source": [
    "import numpy as np\n",
    "import pandas as pd\n",
    "import matplotlib.pyplot as plt"
   ]
  },
  {
   "cell_type": "markdown",
   "id": "9db8ebaa",
   "metadata": {},
   "source": [
    "## Membaca dan Menampilkan Data "
   ]
  },
  {
   "cell_type": "code",
   "execution_count": 13,
   "id": "5e5f60ad",
   "metadata": {
    "execution": {
     "iopub.execute_input": "2023-09-11T18:48:17.803707Z",
     "iopub.status.busy": "2023-09-11T18:48:17.802375Z",
     "iopub.status.idle": "2023-09-11T18:48:20.614715Z",
     "shell.execute_reply": "2023-09-11T18:48:20.613385Z"
    },
    "papermill": {
     "duration": 2.824586,
     "end_time": "2023-09-11T18:48:20.617599",
     "exception": false,
     "start_time": "2023-09-11T18:48:17.793013",
     "status": "completed"
    },
    "tags": []
   },
   "outputs": [
    {
     "data": {
      "text/html": [
       "<div>\n",
       "<style scoped>\n",
       "    .dataframe tbody tr th:only-of-type {\n",
       "        vertical-align: middle;\n",
       "    }\n",
       "\n",
       "    .dataframe tbody tr th {\n",
       "        vertical-align: top;\n",
       "    }\n",
       "\n",
       "    .dataframe thead th {\n",
       "        text-align: right;\n",
       "    }\n",
       "</style>\n",
       "<table border=\"1\" class=\"dataframe\">\n",
       "  <thead>\n",
       "    <tr style=\"text-align: right;\">\n",
       "      <th></th>\n",
       "      <th>Email No.</th>\n",
       "      <th>the</th>\n",
       "      <th>to</th>\n",
       "      <th>ect</th>\n",
       "      <th>and</th>\n",
       "      <th>for</th>\n",
       "      <th>of</th>\n",
       "      <th>a</th>\n",
       "      <th>you</th>\n",
       "      <th>hou</th>\n",
       "      <th>...</th>\n",
       "      <th>connevey</th>\n",
       "      <th>jay</th>\n",
       "      <th>valued</th>\n",
       "      <th>lay</th>\n",
       "      <th>infrastructure</th>\n",
       "      <th>military</th>\n",
       "      <th>allowing</th>\n",
       "      <th>ff</th>\n",
       "      <th>dry</th>\n",
       "      <th>Prediction</th>\n",
       "    </tr>\n",
       "  </thead>\n",
       "  <tbody>\n",
       "    <tr>\n",
       "      <th>0</th>\n",
       "      <td>Email 1</td>\n",
       "      <td>0</td>\n",
       "      <td>0</td>\n",
       "      <td>1</td>\n",
       "      <td>0</td>\n",
       "      <td>0</td>\n",
       "      <td>0</td>\n",
       "      <td>2</td>\n",
       "      <td>0</td>\n",
       "      <td>0</td>\n",
       "      <td>...</td>\n",
       "      <td>0</td>\n",
       "      <td>0</td>\n",
       "      <td>0</td>\n",
       "      <td>0</td>\n",
       "      <td>0</td>\n",
       "      <td>0</td>\n",
       "      <td>0</td>\n",
       "      <td>0</td>\n",
       "      <td>0</td>\n",
       "      <td>0</td>\n",
       "    </tr>\n",
       "    <tr>\n",
       "      <th>1</th>\n",
       "      <td>Email 2</td>\n",
       "      <td>8</td>\n",
       "      <td>13</td>\n",
       "      <td>24</td>\n",
       "      <td>6</td>\n",
       "      <td>6</td>\n",
       "      <td>2</td>\n",
       "      <td>102</td>\n",
       "      <td>1</td>\n",
       "      <td>27</td>\n",
       "      <td>...</td>\n",
       "      <td>0</td>\n",
       "      <td>0</td>\n",
       "      <td>0</td>\n",
       "      <td>0</td>\n",
       "      <td>0</td>\n",
       "      <td>0</td>\n",
       "      <td>0</td>\n",
       "      <td>1</td>\n",
       "      <td>0</td>\n",
       "      <td>0</td>\n",
       "    </tr>\n",
       "    <tr>\n",
       "      <th>2</th>\n",
       "      <td>Email 3</td>\n",
       "      <td>0</td>\n",
       "      <td>0</td>\n",
       "      <td>1</td>\n",
       "      <td>0</td>\n",
       "      <td>0</td>\n",
       "      <td>0</td>\n",
       "      <td>8</td>\n",
       "      <td>0</td>\n",
       "      <td>0</td>\n",
       "      <td>...</td>\n",
       "      <td>0</td>\n",
       "      <td>0</td>\n",
       "      <td>0</td>\n",
       "      <td>0</td>\n",
       "      <td>0</td>\n",
       "      <td>0</td>\n",
       "      <td>0</td>\n",
       "      <td>0</td>\n",
       "      <td>0</td>\n",
       "      <td>0</td>\n",
       "    </tr>\n",
       "    <tr>\n",
       "      <th>3</th>\n",
       "      <td>Email 4</td>\n",
       "      <td>0</td>\n",
       "      <td>5</td>\n",
       "      <td>22</td>\n",
       "      <td>0</td>\n",
       "      <td>5</td>\n",
       "      <td>1</td>\n",
       "      <td>51</td>\n",
       "      <td>2</td>\n",
       "      <td>10</td>\n",
       "      <td>...</td>\n",
       "      <td>0</td>\n",
       "      <td>0</td>\n",
       "      <td>0</td>\n",
       "      <td>0</td>\n",
       "      <td>0</td>\n",
       "      <td>0</td>\n",
       "      <td>0</td>\n",
       "      <td>0</td>\n",
       "      <td>0</td>\n",
       "      <td>0</td>\n",
       "    </tr>\n",
       "    <tr>\n",
       "      <th>4</th>\n",
       "      <td>Email 5</td>\n",
       "      <td>7</td>\n",
       "      <td>6</td>\n",
       "      <td>17</td>\n",
       "      <td>1</td>\n",
       "      <td>5</td>\n",
       "      <td>2</td>\n",
       "      <td>57</td>\n",
       "      <td>0</td>\n",
       "      <td>9</td>\n",
       "      <td>...</td>\n",
       "      <td>0</td>\n",
       "      <td>0</td>\n",
       "      <td>0</td>\n",
       "      <td>0</td>\n",
       "      <td>0</td>\n",
       "      <td>0</td>\n",
       "      <td>0</td>\n",
       "      <td>1</td>\n",
       "      <td>0</td>\n",
       "      <td>0</td>\n",
       "    </tr>\n",
       "  </tbody>\n",
       "</table>\n",
       "<p>5 rows × 3002 columns</p>\n",
       "</div>"
      ],
      "text/plain": [
       "  Email No.  the  to  ect  and  for  of    a  you  hou  ...  connevey  jay  \\\n",
       "0   Email 1    0   0    1    0    0   0    2    0    0  ...         0    0   \n",
       "1   Email 2    8  13   24    6    6   2  102    1   27  ...         0    0   \n",
       "2   Email 3    0   0    1    0    0   0    8    0    0  ...         0    0   \n",
       "3   Email 4    0   5   22    0    5   1   51    2   10  ...         0    0   \n",
       "4   Email 5    7   6   17    1    5   2   57    0    9  ...         0    0   \n",
       "\n",
       "   valued  lay  infrastructure  military  allowing  ff  dry  Prediction  \n",
       "0       0    0               0         0         0   0    0           0  \n",
       "1       0    0               0         0         0   1    0           0  \n",
       "2       0    0               0         0         0   0    0           0  \n",
       "3       0    0               0         0         0   0    0           0  \n",
       "4       0    0               0         0         0   1    0           0  \n",
       "\n",
       "[5 rows x 3002 columns]"
      ]
     },
     "execution_count": 13,
     "metadata": {},
     "output_type": "execute_result"
    }
   ],
   "source": [
    "data = pd.read_csv('emails.csv')\n",
    "data.head()"
   ]
  },
  {
   "cell_type": "markdown",
   "id": "47a0967f",
   "metadata": {},
   "source": [
    "## Pemisahan Fitur dan Label"
   ]
  },
  {
   "cell_type": "code",
   "execution_count": 3,
   "id": "fbdfc06f",
   "metadata": {},
   "outputs": [],
   "source": [
    "x = data.drop(['Email No.','Prediction'], axis=1)\n",
    "y = data['Prediction'] "
   ]
  },
  {
   "cell_type": "code",
   "execution_count": 4,
   "id": "6d4e4441",
   "metadata": {
    "execution": {
     "iopub.execute_input": "2023-09-11T18:48:20.637381Z",
     "iopub.status.busy": "2023-09-11T18:48:20.636157Z",
     "iopub.status.idle": "2023-09-11T18:48:20.788255Z",
     "shell.execute_reply": "2023-09-11T18:48:20.786739Z"
    },
    "papermill": {
     "duration": 0.164942,
     "end_time": "2023-09-11T18:48:20.791004",
     "exception": false,
     "start_time": "2023-09-11T18:48:20.626062",
     "status": "completed"
    },
    "tags": []
   },
   "outputs": [
    {
     "name": "stdout",
     "output_type": "stream",
     "text": [
      "<class 'pandas.core.frame.DataFrame'>\n",
      "RangeIndex: 5172 entries, 0 to 5171\n",
      "Columns: 3002 entries, Email No. to Prediction\n",
      "dtypes: int64(3001), object(1)\n",
      "memory usage: 118.5+ MB\n"
     ]
    }
   ],
   "source": [
    "data.info()"
   ]
  },
  {
   "cell_type": "code",
   "execution_count": 5,
   "id": "8588baef",
   "metadata": {
    "execution": {
     "iopub.execute_input": "2023-09-11T18:48:20.946917Z",
     "iopub.status.busy": "2023-09-11T18:48:20.946470Z",
     "iopub.status.idle": "2023-09-11T18:48:20.971771Z",
     "shell.execute_reply": "2023-09-11T18:48:20.970622Z"
    },
    "papermill": {
     "duration": 0.038129,
     "end_time": "2023-09-11T18:48:20.974281",
     "exception": false,
     "start_time": "2023-09-11T18:48:20.936152",
     "status": "completed"
    },
    "tags": []
   },
   "outputs": [
    {
     "data": {
      "text/plain": [
       "Email No.     0\n",
       "the           0\n",
       "to            0\n",
       "ect           0\n",
       "and           0\n",
       "             ..\n",
       "military      0\n",
       "allowing      0\n",
       "ff            0\n",
       "dry           0\n",
       "Prediction    0\n",
       "Length: 3002, dtype: int64"
      ]
     },
     "execution_count": 5,
     "metadata": {},
     "output_type": "execute_result"
    }
   ],
   "source": [
    "data.isna().sum()"
   ]
  },
  {
   "cell_type": "code",
   "execution_count": 6,
   "id": "8f4090b2",
   "metadata": {
    "execution": {
     "iopub.execute_input": "2023-09-11T18:48:20.995116Z",
     "iopub.status.busy": "2023-09-11T18:48:20.994346Z",
     "iopub.status.idle": "2023-09-11T18:48:21.000911Z",
     "shell.execute_reply": "2023-09-11T18:48:20.999696Z"
    },
    "papermill": {
     "duration": 0.028413,
     "end_time": "2023-09-11T18:48:21.012009",
     "exception": false,
     "start_time": "2023-09-11T18:48:20.983596",
     "status": "completed"
    },
    "tags": []
   },
   "outputs": [
    {
     "data": {
      "text/plain": [
       "(5172, 3002)"
      ]
     },
     "execution_count": 6,
     "metadata": {},
     "output_type": "execute_result"
    }
   ],
   "source": [
    "data.shape"
   ]
  },
  {
   "cell_type": "code",
   "execution_count": 7,
   "id": "8865de0b",
   "metadata": {
    "execution": {
     "iopub.execute_input": "2023-09-11T18:48:21.061887Z",
     "iopub.status.busy": "2023-09-11T18:48:21.061098Z",
     "iopub.status.idle": "2023-09-11T18:48:21.067601Z",
     "shell.execute_reply": "2023-09-11T18:48:21.066613Z"
    },
    "papermill": {
     "duration": 0.020171,
     "end_time": "2023-09-11T18:48:21.070343",
     "exception": false,
     "start_time": "2023-09-11T18:48:21.050172",
     "status": "completed"
    },
    "tags": []
   },
   "outputs": [
    {
     "data": {
      "text/plain": [
       "((5172, 3000), (5172,))"
      ]
     },
     "execution_count": 7,
     "metadata": {},
     "output_type": "execute_result"
    }
   ],
   "source": [
    "(x.shape , y.shape)"
   ]
  },
  {
   "cell_type": "markdown",
   "id": "5c72279d",
   "metadata": {},
   "source": [
    "## Pembagian Data "
   ]
  },
  {
   "cell_type": "code",
   "execution_count": 8,
   "id": "14002643",
   "metadata": {
    "execution": {
     "iopub.execute_input": "2023-09-11T18:48:21.091945Z",
     "iopub.status.busy": "2023-09-11T18:48:21.090764Z",
     "iopub.status.idle": "2023-09-11T18:48:22.616592Z",
     "shell.execute_reply": "2023-09-11T18:48:22.615354Z"
    },
    "papermill": {
     "duration": 1.539767,
     "end_time": "2023-09-11T18:48:22.619622",
     "exception": false,
     "start_time": "2023-09-11T18:48:21.079855",
     "status": "completed"
    },
    "tags": []
   },
   "outputs": [],
   "source": [
    "from sklearn.model_selection import train_test_split\n",
    "x_train , x_test , y_train , y_test = train_test_split(x,y,test_size=0.3 , random_state=40)"
   ]
  },
  {
   "cell_type": "markdown",
   "id": "f8e158a0",
   "metadata": {},
   "source": [
    "## Membuat dan Melatih Model Naive Bayes "
   ]
  },
  {
   "cell_type": "code",
   "execution_count": 9,
   "id": "b180d5af",
   "metadata": {
    "execution": {
     "iopub.execute_input": "2023-09-11T18:48:22.641205Z",
     "iopub.status.busy": "2023-09-11T18:48:22.640725Z",
     "iopub.status.idle": "2023-09-11T18:48:23.053783Z",
     "shell.execute_reply": "2023-09-11T18:48:23.052509Z"
    },
    "papermill": {
     "duration": 0.427346,
     "end_time": "2023-09-11T18:48:23.057030",
     "exception": false,
     "start_time": "2023-09-11T18:48:22.629684",
     "status": "completed"
    },
    "tags": []
   },
   "outputs": [
    {
     "data": {
      "text/plain": [
       "(array([1, 0, 1, ..., 1, 0, 0], dtype=int64),\n",
       " array([1, 0, 1, ..., 1, 0, 0], dtype=int64))"
      ]
     },
     "execution_count": 9,
     "metadata": {},
     "output_type": "execute_result"
    }
   ],
   "source": [
    "from sklearn.naive_bayes import GaussianNB\n",
    "model = GaussianNB()\n",
    "model.fit(x_train , y_train)\n",
    "y_pred = model.predict(x_test)\n",
    "(np.array(y_test),y_pred)"
   ]
  },
  {
   "cell_type": "markdown",
   "id": "12c898e0",
   "metadata": {},
   "source": [
    "## Prediksi Akurasi "
   ]
  },
  {
   "cell_type": "code",
   "execution_count": 10,
   "id": "ab5c3972",
   "metadata": {
    "execution": {
     "iopub.execute_input": "2023-09-11T18:48:23.078475Z",
     "iopub.status.busy": "2023-09-11T18:48:23.077500Z",
     "iopub.status.idle": "2023-09-11T18:48:23.086281Z",
     "shell.execute_reply": "2023-09-11T18:48:23.084919Z"
    },
    "papermill": {
     "duration": 0.022409,
     "end_time": "2023-09-11T18:48:23.089010",
     "exception": false,
     "start_time": "2023-09-11T18:48:23.066601",
     "status": "completed"
    },
    "tags": []
   },
   "outputs": [
    {
     "name": "stdout",
     "output_type": "stream",
     "text": [
      "Accuracy :  95.17\n"
     ]
    }
   ],
   "source": [
    "from sklearn.metrics import accuracy_score\n",
    "print(\"Accuracy : \" , np.round(accuracy_score(y_test , y_pred),4)*100)"
   ]
  },
  {
   "cell_type": "markdown",
   "id": "186aec8f",
   "metadata": {},
   "source": [
    "## Evaluasi"
   ]
  },
  {
   "cell_type": "code",
   "execution_count": 11,
   "id": "83524558",
   "metadata": {
    "execution": {
     "iopub.execute_input": "2023-09-11T18:48:23.110418Z",
     "iopub.status.busy": "2023-09-11T18:48:23.109710Z",
     "iopub.status.idle": "2023-09-11T18:48:26.632342Z",
     "shell.execute_reply": "2023-09-11T18:48:26.631109Z"
    },
    "papermill": {
     "duration": 3.536159,
     "end_time": "2023-09-11T18:48:26.634756",
     "exception": false,
     "start_time": "2023-09-11T18:48:23.098597",
     "status": "completed"
    },
    "tags": []
   },
   "outputs": [
    {
     "data": {
      "text/plain": [
       "95.13812154696136"
      ]
     },
     "execution_count": 11,
     "metadata": {},
     "output_type": "execute_result"
    }
   ],
   "source": [
    "from sklearn.model_selection import cross_val_score\n",
    "cross_validation = cross_val_score(model,x_train , y_train , cv=10)\n",
    "cross_validation.mean()*100"
   ]
  }
 ],
 "metadata": {
  "kernelspec": {
   "display_name": "Python 3 (ipykernel)",
   "language": "python",
   "name": "python3"
  },
  "language_info": {
   "codemirror_mode": {
    "name": "ipython",
    "version": 3
   },
   "file_extension": ".py",
   "mimetype": "text/x-python",
   "name": "python",
   "nbconvert_exporter": "python",
   "pygments_lexer": "ipython3",
   "version": "3.9.13"
  },
  "papermill": {
   "default_parameters": {},
   "duration": 15.362335,
   "end_time": "2023-09-11T18:48:27.284182",
   "environment_variables": {},
   "exception": null,
   "input_path": "__notebook__.ipynb",
   "output_path": "__notebook__.ipynb",
   "parameters": {},
   "start_time": "2023-09-11T18:48:11.921847",
   "version": "2.4.0"
  }
 },
 "nbformat": 4,
 "nbformat_minor": 5
}
